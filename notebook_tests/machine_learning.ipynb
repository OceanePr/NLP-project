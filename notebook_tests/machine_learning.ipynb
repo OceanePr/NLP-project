{
 "cells": [
  {
   "cell_type": "markdown",
   "id": "1c1d0535",
   "metadata": {},
   "source": [
    "Objectif : être en mesure de prédire un nombre de personnes venant à une maraude sur une jour précis, dans un arrondissement précis."
   ]
  },
  {
   "cell_type": "code",
   "execution_count": null,
   "id": "c51b9a0c",
   "metadata": {},
   "outputs": [],
   "source": [
    "import pandas as pd \n",
    "from datetime import timedelta\n",
    "from datetime import datetime\n",
    "from sklearn.model_selection import train_test_split\n",
    "from sklearn.ensemble import RandomForestRegressor\n",
    "from sklearn.metrics import mean_absolute_error\n",
    "import matplotlib.pyplot as plt\n",
    "\n",
    "df = pd.read_csv(\"../data/utilisateur_maraude_feedback.csv\", delimiter=\",\")"
   ]
  },
  {
   "cell_type": "code",
   "execution_count": 146,
   "id": "e8a4eab4",
   "metadata": {},
   "outputs": [
    {
     "data": {
      "text/html": [
       "<div>\n",
       "<style scoped>\n",
       "    .dataframe tbody tr th:only-of-type {\n",
       "        vertical-align: middle;\n",
       "    }\n",
       "\n",
       "    .dataframe tbody tr th {\n",
       "        vertical-align: top;\n",
       "    }\n",
       "\n",
       "    .dataframe thead th {\n",
       "        text-align: right;\n",
       "    }\n",
       "</style>\n",
       "<table border=\"1\" class=\"dataframe\">\n",
       "  <thead>\n",
       "    <tr style=\"text-align: right;\">\n",
       "      <th></th>\n",
       "      <th>uuid</th>\n",
       "      <th>datetime</th>\n",
       "      <th>borough</th>\n",
       "      <th>theme</th>\n",
       "      <th>message</th>\n",
       "      <th>user_days</th>\n",
       "    </tr>\n",
       "  </thead>\n",
       "  <tbody>\n",
       "    <tr>\n",
       "      <th>0</th>\n",
       "      <td>42e9009a-8706-498d-be3b-94f48e299da2</td>\n",
       "      <td>2025-05-31T16:42:29.308241</td>\n",
       "      <td>13</td>\n",
       "      <td>maraude</td>\n",
       "      <td>Y a-t-il une distribution de repas prévue aujo...</td>\n",
       "      <td>NaN</td>\n",
       "    </tr>\n",
       "    <tr>\n",
       "      <th>1</th>\n",
       "      <td>66f5ccd4-b0e1-47c9-9237-3cd5c2f46c2b</td>\n",
       "      <td>2025-05-31T16:47:48.848388</td>\n",
       "      <td>13</td>\n",
       "      <td>maraude</td>\n",
       "      <td>Y a-t-il une distribution de repas prévue aujo...</td>\n",
       "      <td>NaN</td>\n",
       "    </tr>\n",
       "    <tr>\n",
       "      <th>2</th>\n",
       "      <td>27ee44f4-6e97-42ea-9162-a68e0dba79b8</td>\n",
       "      <td>2025-05-31T17:00:19.509599</td>\n",
       "      <td>13</td>\n",
       "      <td>maraude</td>\n",
       "      <td>Y a-t-il une distribution de repas prévue dans...</td>\n",
       "      <td>Lundi, Jeudi</td>\n",
       "    </tr>\n",
       "    <tr>\n",
       "      <th>3</th>\n",
       "      <td>6a4a6ac9-cce7-4cc5-8f23-7ff7aa400b3c</td>\n",
       "      <td>2025-05-31T17:02:17.732715</td>\n",
       "      <td>13</td>\n",
       "      <td>maraude</td>\n",
       "      <td>Y a-t-il une distribution de repas prévue dans...</td>\n",
       "      <td>NaN</td>\n",
       "    </tr>\n",
       "    <tr>\n",
       "      <th>4</th>\n",
       "      <td>494d493d-4760-4f16-ab5e-ef8f19295a92</td>\n",
       "      <td>2025-05-31T17:02:28.878320</td>\n",
       "      <td>13</td>\n",
       "      <td>maraude</td>\n",
       "      <td>Y a-t-il une distribution de repas prévue dans...</td>\n",
       "      <td>Lundi, Jeudi</td>\n",
       "    </tr>\n",
       "  </tbody>\n",
       "</table>\n",
       "</div>"
      ],
      "text/plain": [
       "                                   uuid                    datetime  borough  \\\n",
       "0  42e9009a-8706-498d-be3b-94f48e299da2  2025-05-31T16:42:29.308241       13   \n",
       "1  66f5ccd4-b0e1-47c9-9237-3cd5c2f46c2b  2025-05-31T16:47:48.848388       13   \n",
       "2  27ee44f4-6e97-42ea-9162-a68e0dba79b8  2025-05-31T17:00:19.509599       13   \n",
       "3  6a4a6ac9-cce7-4cc5-8f23-7ff7aa400b3c  2025-05-31T17:02:17.732715       13   \n",
       "4  494d493d-4760-4f16-ab5e-ef8f19295a92  2025-05-31T17:02:28.878320       13   \n",
       "\n",
       "     theme                                            message     user_days  \n",
       "0  maraude  Y a-t-il une distribution de repas prévue aujo...           NaN  \n",
       "1  maraude  Y a-t-il une distribution de repas prévue aujo...           NaN  \n",
       "2  maraude  Y a-t-il une distribution de repas prévue dans...  Lundi, Jeudi  \n",
       "3  maraude  Y a-t-il une distribution de repas prévue dans...           NaN  \n",
       "4  maraude  Y a-t-il une distribution de repas prévue dans...  Lundi, Jeudi  "
      ]
     },
     "execution_count": 146,
     "metadata": {},
     "output_type": "execute_result"
    }
   ],
   "source": [
    "df.head()"
   ]
  },
  {
   "cell_type": "code",
   "execution_count": 147,
   "id": "6c52cd03",
   "metadata": {},
   "outputs": [
    {
     "name": "stdout",
     "output_type": "stream",
     "text": [
      "<class 'pandas.core.frame.DataFrame'>\n",
      "RangeIndex: 5010 entries, 0 to 5009\n",
      "Data columns (total 6 columns):\n",
      " #   Column     Non-Null Count  Dtype \n",
      "---  ------     --------------  ----- \n",
      " 0   uuid       5010 non-null   object\n",
      " 1   datetime   5010 non-null   object\n",
      " 2   borough    5010 non-null   int64 \n",
      " 3   theme      5010 non-null   object\n",
      " 4   message    5010 non-null   object\n",
      " 5   user_days  3733 non-null   object\n",
      "dtypes: int64(1), object(5)\n",
      "memory usage: 235.0+ KB\n"
     ]
    }
   ],
   "source": [
    "df.info()"
   ]
  },
  {
   "cell_type": "code",
   "execution_count": 148,
   "id": "a2c544a9",
   "metadata": {},
   "outputs": [
    {
     "data": {
      "text/plain": [
       "uuid   datetime  borough  theme  message  user_days\n",
       "False  False     False    False  False    False        3733\n",
       "                                          True         1277\n",
       "Name: count, dtype: int64"
      ]
     },
     "execution_count": 148,
     "metadata": {},
     "output_type": "execute_result"
    }
   ],
   "source": [
    "df.isna().value_counts()"
   ]
  },
  {
   "cell_type": "code",
   "execution_count": 149,
   "id": "c471451f",
   "metadata": {},
   "outputs": [],
   "source": [
    "df = df[df[\"user_days\"].notna()]\n",
    "\n",
    "# df = df.dropna(subset=[\"user_days\"])"
   ]
  },
  {
   "cell_type": "code",
   "execution_count": 150,
   "id": "89ec859c",
   "metadata": {},
   "outputs": [
    {
     "data": {
      "text/html": [
       "<div>\n",
       "<style scoped>\n",
       "    .dataframe tbody tr th:only-of-type {\n",
       "        vertical-align: middle;\n",
       "    }\n",
       "\n",
       "    .dataframe tbody tr th {\n",
       "        vertical-align: top;\n",
       "    }\n",
       "\n",
       "    .dataframe thead th {\n",
       "        text-align: right;\n",
       "    }\n",
       "</style>\n",
       "<table border=\"1\" class=\"dataframe\">\n",
       "  <thead>\n",
       "    <tr style=\"text-align: right;\">\n",
       "      <th></th>\n",
       "      <th>uuid</th>\n",
       "      <th>datetime</th>\n",
       "      <th>borough</th>\n",
       "      <th>theme</th>\n",
       "      <th>message</th>\n",
       "      <th>user_days</th>\n",
       "    </tr>\n",
       "  </thead>\n",
       "  <tbody>\n",
       "    <tr>\n",
       "      <th>2</th>\n",
       "      <td>27ee44f4-6e97-42ea-9162-a68e0dba79b8</td>\n",
       "      <td>2025-05-31T17:00:19.509599</td>\n",
       "      <td>13</td>\n",
       "      <td>maraude</td>\n",
       "      <td>Y a-t-il une distribution de repas prévue dans...</td>\n",
       "      <td>Lundi, Jeudi</td>\n",
       "    </tr>\n",
       "    <tr>\n",
       "      <th>4</th>\n",
       "      <td>494d493d-4760-4f16-ab5e-ef8f19295a92</td>\n",
       "      <td>2025-05-31T17:02:28.878320</td>\n",
       "      <td>13</td>\n",
       "      <td>maraude</td>\n",
       "      <td>Y a-t-il une distribution de repas prévue dans...</td>\n",
       "      <td>Lundi, Jeudi</td>\n",
       "    </tr>\n",
       "    <tr>\n",
       "      <th>5</th>\n",
       "      <td>f1fa0180-a028-461e-9db8-24f08204fedf</td>\n",
       "      <td>2025-06-01T13:57:57.113901</td>\n",
       "      <td>13</td>\n",
       "      <td>maraude</td>\n",
       "      <td>Y a-t-il une distribution de repas prévue dans...</td>\n",
       "      <td>Lundi, Jeudi</td>\n",
       "    </tr>\n",
       "    <tr>\n",
       "      <th>7</th>\n",
       "      <td>3872f4ef-9402-453f-80c0-f7dabfbdde98</td>\n",
       "      <td>2025-06-01T14:04:11.552334</td>\n",
       "      <td>13</td>\n",
       "      <td>maraude</td>\n",
       "      <td>Y a-t-il une distribution de repas prévue dans...</td>\n",
       "      <td>Lundi, Jeudi</td>\n",
       "    </tr>\n",
       "    <tr>\n",
       "      <th>10</th>\n",
       "      <td>4bf98d58-3bc2-4be6-9c08-f61b8a530160</td>\n",
       "      <td>2025-06-01T15:03:37.452516</td>\n",
       "      <td>14</td>\n",
       "      <td>maraude</td>\n",
       "      <td>Y a-t-il une distribution de repas aujourd'hui ?</td>\n",
       "      <td>Vendredi, Mardi, Mercredi</td>\n",
       "    </tr>\n",
       "  </tbody>\n",
       "</table>\n",
       "</div>"
      ],
      "text/plain": [
       "                                    uuid                    datetime  borough  \\\n",
       "2   27ee44f4-6e97-42ea-9162-a68e0dba79b8  2025-05-31T17:00:19.509599       13   \n",
       "4   494d493d-4760-4f16-ab5e-ef8f19295a92  2025-05-31T17:02:28.878320       13   \n",
       "5   f1fa0180-a028-461e-9db8-24f08204fedf  2025-06-01T13:57:57.113901       13   \n",
       "7   3872f4ef-9402-453f-80c0-f7dabfbdde98  2025-06-01T14:04:11.552334       13   \n",
       "10  4bf98d58-3bc2-4be6-9c08-f61b8a530160  2025-06-01T15:03:37.452516       14   \n",
       "\n",
       "      theme                                            message  \\\n",
       "2   maraude  Y a-t-il une distribution de repas prévue dans...   \n",
       "4   maraude  Y a-t-il une distribution de repas prévue dans...   \n",
       "5   maraude  Y a-t-il une distribution de repas prévue dans...   \n",
       "7   maraude  Y a-t-il une distribution de repas prévue dans...   \n",
       "10  maraude   Y a-t-il une distribution de repas aujourd'hui ?   \n",
       "\n",
       "                    user_days  \n",
       "2                Lundi, Jeudi  \n",
       "4                Lundi, Jeudi  \n",
       "5                Lundi, Jeudi  \n",
       "7                Lundi, Jeudi  \n",
       "10  Vendredi, Mardi, Mercredi  "
      ]
     },
     "execution_count": 150,
     "metadata": {},
     "output_type": "execute_result"
    }
   ],
   "source": [
    "df.head()\n"
   ]
  },
  {
   "cell_type": "code",
   "execution_count": 151,
   "id": "03789d2f",
   "metadata": {},
   "outputs": [],
   "source": [
    "# On suppose ici que si un utilisateur déclaire le 04/06/2025 qu'il vient aux maraudes du 3ème arrondissement les ludni et mardi, les seules valeurs que nous retiendrons seront le lundi et mardi suivants cette date, soient les 09 et 10 juin 2025. \n",
    "# Pour s'assurer de la qualité des données, on ne retiendra pas les lundis et mardis suivants.\n",
    "# On doit donc, dans notre dataframe, matcher les jours de la semaines avec les dates réelles.\n",
    "\n",
    "\n",
    "def days_to_dates(message_date, user_days):\n",
    "    # On convertit les jours de la semaine en index (0 = lundi, ..., 6 = dimanche)\n",
    "    jours_map = {\"Lundi\": 0, \"Mardi\": 1, \"Mercredi\": 2, \"Jeudi\": 3, \"Vendredi\": 4, \"Samedi\": 5, \"Dimanche\": 6}\n",
    "    \n",
    "    semaine_debut = message_date - timedelta(days=message_date.weekday()) \n",
    "    \n",
    "    result = []\n",
    "    for jour in user_days:\n",
    "        jour = jour.strip()\n",
    "        if jour in jours_map:\n",
    "            date_du_jour = semaine_debut + timedelta(days=jours_map[jour])\n",
    "            result.append({\"date\": date_du_jour.date(), \"jour\": jour})\n",
    "    return result\n"
   ]
  },
  {
   "cell_type": "code",
   "execution_count": 152,
   "id": "512f4d9e",
   "metadata": {},
   "outputs": [],
   "source": [
    "df[\"datetime\"] = pd.to_datetime(df[\"datetime\"])\n",
    "df[\"user_day_list\"] = df[\"user_days\"].str.split(\",\")\n",
    "\n",
    "df_exploded = df.explode(\"user_day_list\")\n",
    "df_exploded[\"user_day_list\"] = df_exploded[\"user_day_list\"].str.strip()\n",
    "\n",
    "daily_rows = []\n",
    "\n",
    "for _, row in df_exploded.iterrows():\n",
    "    matches = days_to_dates(row[\"datetime\"], [row[\"user_day_list\"]])\n",
    "    for match in matches:\n",
    "        daily_rows.append({\n",
    "            \"uuid\": row[\"uuid\"],\n",
    "            \"declared_at\": row[\"datetime\"].date(),\n",
    "            \"date\": match[\"date\"],\n",
    "            \"jour_semaine\": match[\"jour\"],\n",
    "            \"borough\": row[\"borough\"]            \n",
    "        })\n",
    "\n",
    "df_daily = pd.DataFrame(daily_rows)\n"
   ]
  },
  {
   "cell_type": "code",
   "execution_count": 153,
   "id": "5f5ff2f6",
   "metadata": {},
   "outputs": [
    {
     "data": {
      "text/html": [
       "<div>\n",
       "<style scoped>\n",
       "    .dataframe tbody tr th:only-of-type {\n",
       "        vertical-align: middle;\n",
       "    }\n",
       "\n",
       "    .dataframe tbody tr th {\n",
       "        vertical-align: top;\n",
       "    }\n",
       "\n",
       "    .dataframe thead th {\n",
       "        text-align: right;\n",
       "    }\n",
       "</style>\n",
       "<table border=\"1\" class=\"dataframe\">\n",
       "  <thead>\n",
       "    <tr style=\"text-align: right;\">\n",
       "      <th></th>\n",
       "      <th>uuid</th>\n",
       "      <th>declared_at</th>\n",
       "      <th>date</th>\n",
       "      <th>jour_semaine</th>\n",
       "      <th>borough</th>\n",
       "    </tr>\n",
       "  </thead>\n",
       "  <tbody>\n",
       "    <tr>\n",
       "      <th>0</th>\n",
       "      <td>27ee44f4-6e97-42ea-9162-a68e0dba79b8</td>\n",
       "      <td>2025-05-31</td>\n",
       "      <td>2025-05-26</td>\n",
       "      <td>Lundi</td>\n",
       "      <td>13</td>\n",
       "    </tr>\n",
       "    <tr>\n",
       "      <th>1</th>\n",
       "      <td>27ee44f4-6e97-42ea-9162-a68e0dba79b8</td>\n",
       "      <td>2025-05-31</td>\n",
       "      <td>2025-05-29</td>\n",
       "      <td>Jeudi</td>\n",
       "      <td>13</td>\n",
       "    </tr>\n",
       "    <tr>\n",
       "      <th>2</th>\n",
       "      <td>494d493d-4760-4f16-ab5e-ef8f19295a92</td>\n",
       "      <td>2025-05-31</td>\n",
       "      <td>2025-05-26</td>\n",
       "      <td>Lundi</td>\n",
       "      <td>13</td>\n",
       "    </tr>\n",
       "    <tr>\n",
       "      <th>3</th>\n",
       "      <td>494d493d-4760-4f16-ab5e-ef8f19295a92</td>\n",
       "      <td>2025-05-31</td>\n",
       "      <td>2025-05-29</td>\n",
       "      <td>Jeudi</td>\n",
       "      <td>13</td>\n",
       "    </tr>\n",
       "    <tr>\n",
       "      <th>4</th>\n",
       "      <td>f1fa0180-a028-461e-9db8-24f08204fedf</td>\n",
       "      <td>2025-06-01</td>\n",
       "      <td>2025-05-26</td>\n",
       "      <td>Lundi</td>\n",
       "      <td>13</td>\n",
       "    </tr>\n",
       "  </tbody>\n",
       "</table>\n",
       "</div>"
      ],
      "text/plain": [
       "                                   uuid declared_at        date jour_semaine  \\\n",
       "0  27ee44f4-6e97-42ea-9162-a68e0dba79b8  2025-05-31  2025-05-26        Lundi   \n",
       "1  27ee44f4-6e97-42ea-9162-a68e0dba79b8  2025-05-31  2025-05-29        Jeudi   \n",
       "2  494d493d-4760-4f16-ab5e-ef8f19295a92  2025-05-31  2025-05-26        Lundi   \n",
       "3  494d493d-4760-4f16-ab5e-ef8f19295a92  2025-05-31  2025-05-29        Jeudi   \n",
       "4  f1fa0180-a028-461e-9db8-24f08204fedf  2025-06-01  2025-05-26        Lundi   \n",
       "\n",
       "   borough  \n",
       "0       13  \n",
       "1       13  \n",
       "2       13  \n",
       "3       13  \n",
       "4       13  "
      ]
     },
     "execution_count": 153,
     "metadata": {},
     "output_type": "execute_result"
    }
   ],
   "source": [
    "df_daily.head()"
   ]
  },
  {
   "cell_type": "code",
   "execution_count": 154,
   "id": "86bf2217",
   "metadata": {},
   "outputs": [],
   "source": [
    "# On ne garde que les données que déclarées sur les 30 derniers jours calendaires pour une question de qualité de la prédiction\n",
    "\n",
    "aujourdhui = pd.to_datetime(datetime.today())\n",
    "date_limite = aujourdhui - pd.DateOffset(months=1)\n",
    "\n",
    "df_daily[\"declared_at\"] = pd.to_datetime(df_daily[\"declared_at\"])\n",
    "df_recent = df_daily[df_daily[\"declared_at\"] >= date_limite]\n",
    "\n"
   ]
  },
  {
   "cell_type": "code",
   "execution_count": 155,
   "id": "c8adb01c",
   "metadata": {},
   "outputs": [],
   "source": [
    "df_agg = df_daily.groupby([\"date\", \"jour_semaine\", \"borough\"]).size().reset_index(name=\"nb_personnes\")\n"
   ]
  },
  {
   "cell_type": "code",
   "execution_count": 156,
   "id": "ef819fca",
   "metadata": {},
   "outputs": [
    {
     "data": {
      "text/html": [
       "<div>\n",
       "<style scoped>\n",
       "    .dataframe tbody tr th:only-of-type {\n",
       "        vertical-align: middle;\n",
       "    }\n",
       "\n",
       "    .dataframe tbody tr th {\n",
       "        vertical-align: top;\n",
       "    }\n",
       "\n",
       "    .dataframe thead th {\n",
       "        text-align: right;\n",
       "    }\n",
       "</style>\n",
       "<table border=\"1\" class=\"dataframe\">\n",
       "  <thead>\n",
       "    <tr style=\"text-align: right;\">\n",
       "      <th></th>\n",
       "      <th>date</th>\n",
       "      <th>jour_semaine</th>\n",
       "      <th>borough</th>\n",
       "      <th>nb_personnes</th>\n",
       "    </tr>\n",
       "  </thead>\n",
       "  <tbody>\n",
       "    <tr>\n",
       "      <th>0</th>\n",
       "      <td>2025-02-03</td>\n",
       "      <td>Lundi</td>\n",
       "      <td>1</td>\n",
       "      <td>2</td>\n",
       "    </tr>\n",
       "    <tr>\n",
       "      <th>1</th>\n",
       "      <td>2025-02-03</td>\n",
       "      <td>Lundi</td>\n",
       "      <td>2</td>\n",
       "      <td>2</td>\n",
       "    </tr>\n",
       "    <tr>\n",
       "      <th>2</th>\n",
       "      <td>2025-02-03</td>\n",
       "      <td>Lundi</td>\n",
       "      <td>3</td>\n",
       "      <td>1</td>\n",
       "    </tr>\n",
       "    <tr>\n",
       "      <th>3</th>\n",
       "      <td>2025-02-03</td>\n",
       "      <td>Lundi</td>\n",
       "      <td>4</td>\n",
       "      <td>2</td>\n",
       "    </tr>\n",
       "    <tr>\n",
       "      <th>4</th>\n",
       "      <td>2025-02-03</td>\n",
       "      <td>Lundi</td>\n",
       "      <td>5</td>\n",
       "      <td>2</td>\n",
       "    </tr>\n",
       "  </tbody>\n",
       "</table>\n",
       "</div>"
      ],
      "text/plain": [
       "         date jour_semaine  borough  nb_personnes\n",
       "0  2025-02-03        Lundi        1             2\n",
       "1  2025-02-03        Lundi        2             2\n",
       "2  2025-02-03        Lundi        3             1\n",
       "3  2025-02-03        Lundi        4             2\n",
       "4  2025-02-03        Lundi        5             2"
      ]
     },
     "execution_count": 156,
     "metadata": {},
     "output_type": "execute_result"
    }
   ],
   "source": [
    "df_agg.head()"
   ]
  },
  {
   "cell_type": "code",
   "execution_count": 157,
   "id": "d4b62ffe",
   "metadata": {},
   "outputs": [],
   "source": [
    "# On ajoute des features à notre dataframe\n",
    "\n",
    "df_agg[\"jour_num\"] = pd.to_datetime(df_agg[\"date\"]).dt.weekday       # 0 = Lundi, ..., 6 = Dimanche\n",
    "df_agg[\"semaine\"] = pd.to_datetime(df_agg[\"date\"]).dt.isocalendar().week\n",
    "df_agg[\"mois\"] = pd.to_datetime(df_agg[\"date\"]).dt.month\n",
    "df_agg[\"annee\"] = pd.to_datetime(df_agg[\"date\"]).dt.year"
   ]
  },
  {
   "cell_type": "code",
   "execution_count": 158,
   "id": "795ddcf1",
   "metadata": {},
   "outputs": [],
   "source": [
    "# On crée les jeux d'entrainement et de test\n",
    "\n",
    "X = df_agg[[\"jour_num\", \"semaine\", \"mois\", \"annee\", \"borough\"]]\n",
    "y = df_agg[\"nb_personnes\"]\n",
    "\n",
    "X_train, X_test, y_train, y_test = train_test_split(X, y, test_size=0.2, random_state=42)\n"
   ]
  },
  {
   "cell_type": "code",
   "execution_count": 159,
   "id": "aceadc5e",
   "metadata": {},
   "outputs": [
    {
     "data": {
      "text/plain": [
       "(1308, 5)"
      ]
     },
     "execution_count": 159,
     "metadata": {},
     "output_type": "execute_result"
    }
   ],
   "source": [
    "X_train.shape"
   ]
  },
  {
   "cell_type": "code",
   "execution_count": 163,
   "id": "b4d00d87",
   "metadata": {},
   "outputs": [
    {
     "data": {
      "text/plain": [
       "(327,)"
      ]
     },
     "execution_count": 163,
     "metadata": {},
     "output_type": "execute_result"
    }
   ],
   "source": [
    "y_test.shape"
   ]
  },
  {
   "cell_type": "code",
   "execution_count": 161,
   "id": "d5e39d6f",
   "metadata": {},
   "outputs": [
    {
     "name": "stdout",
     "output_type": "stream",
     "text": [
      "MAE : 1.283119266055046\n"
     ]
    }
   ],
   "source": [
    "# On entraîne notre modèle Random Forest\n",
    "\n",
    "model = RandomForestRegressor()\n",
    "model.fit(X_train, y_train)\n",
    "\n",
    "y_pred = model.predict(X_test)\n",
    "print(\"MAE :\", mean_absolute_error(y_test, y_pred))\n"
   ]
  },
  {
   "cell_type": "code",
   "execution_count": null,
   "id": "5a6163f1",
   "metadata": {},
   "outputs": [
    {
     "data": {
      "image/png": "[encoded data removed]",
      "text/plain": [
       "<Figure size 800x600 with 1 Axes>"
      ]
     },
     "metadata": {},
     "output_type": "display_data"
    }
   ],
   "source": [
    "plt.figure(figsize=(8, 6))\n",
    "plt.scatter(y_test, y_pred, alpha=0.5)\n",
    "plt.plot([y_test.min(), y_test.max()], [y_test.min(), y_test.max()], 'r--')  # ligne y = x\n",
    "plt.xlabel(\"Valeurs réelles\")\n",
    "plt.ylabel(\"Valeurs prédites\")\n",
    "plt.title(\"Prédictions vs Réalité\")\n",
    "plt.grid(True)\n",
    "plt.show()"
   ]
  },
  {
   "cell_type": "code",
   "execution_count": null,
   "id": "b231c04a",
   "metadata": {},
   "outputs": [
    {
     "name": "stdout",
     "output_type": "stream",
     "text": [
      "Prédiction pour le 2025-06-09 à Paris 13 : 1 personnes attendue(s)\n"
     ]
    }
   ],
   "source": [
    "# On peut maintenant réaliser des prédictions pour évaluer le nombre de personnes qui viendraient sur une maraude sur jour en particulier.\n",
    "# LEs données en entrée : date et arrondissement.\n",
    "\n",
    "# On entre nos valeurs pour la prédiction\n",
    "date = pd.to_datetime(\"2025-06-09\") \n",
    "borough = 13\n",
    "\n",
    "X_new = pd.DataFrame([{\n",
    "    \"jour_num\": date.weekday(),             \n",
    "    \"semaine\": date.isocalendar().week,             \n",
    "    \"mois\": date.month,\n",
    "    \"annee\": date.year,\n",
    "    \"borough\": borough\n",
    "}])\n",
    "\n",
    "prediction = model.predict(X_new)[0]\n",
    "print(f\"Prédiction pour le {date.date()} à Paris {borough} : {prediction:.0f} personne(s) attendue(s)\")\n",
    "\n"
   ]
  },
  {
   "cell_type": "code",
   "execution_count": null,
   "id": "894fa304",
   "metadata": {},
   "outputs": [],
   "source": []
  }
 ],
 "metadata": {
  "kernelspec": {
   "display_name": "venv",
   "language": "python",
   "name": "python3"
  },
  "language_info": {
   "codemirror_mode": {
    "name": "ipython",
    "version": 3
   },
   "file_extension": ".py",
   "mimetype": "text/x-python",
   "name": "python",
   "nbconvert_exporter": "python",
   "pygments_lexer": "ipython3",
   "version": "3.12.4"
  }
 },
 "nbformat": 4,
 "nbformat_minor": 5
}
