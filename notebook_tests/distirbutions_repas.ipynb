{
 "cells": [
  {
   "cell_type": "code",
   "execution_count": 2,
   "metadata": {},
   "outputs": [],
   "source": [
    "import pandas as pd \n",
    "\n",
    "df = pd.read_csv(\"../data/raw/distributions_repas.csv\")"
   ]
  },
  {
   "cell_type": "code",
   "execution_count": 6,
   "metadata": {},
   "outputs": [],
   "source": [
    "df[\"arrondissement\"] = df[\"Code Postal\"].astype(str).apply(lambda x: int(x[2:]))"
   ]
  },
  {
   "cell_type": "code",
   "execution_count": 7,
   "metadata": {},
   "outputs": [
    {
     "data": {
      "text/html": [
       "<div>\n",
       "<style scoped>\n",
       "    .dataframe tbody tr th:only-of-type {\n",
       "        vertical-align: middle;\n",
       "    }\n",
       "\n",
       "    .dataframe tbody tr th {\n",
       "        vertical-align: top;\n",
       "    }\n",
       "\n",
       "    .dataframe thead th {\n",
       "        text-align: right;\n",
       "    }\n",
       "</style>\n",
       "<table border=\"1\" class=\"dataframe\">\n",
       "  <thead>\n",
       "    <tr style=\"text-align: right;\">\n",
       "      <th></th>\n",
       "      <th>Code Postal</th>\n",
       "      <th>Adresse</th>\n",
       "      <th>Ville</th>\n",
       "      <th>Horaires</th>\n",
       "      <th>Jour</th>\n",
       "      <th>Organisation</th>\n",
       "      <th>arrondissement</th>\n",
       "    </tr>\n",
       "  </thead>\n",
       "  <tbody>\n",
       "    <tr>\n",
       "      <th>0</th>\n",
       "      <td>75005</td>\n",
       "      <td>15 rue de la Parcheminerie</td>\n",
       "      <td>Paris</td>\n",
       "      <td>17h15 - 19h15</td>\n",
       "      <td>Lundi</td>\n",
       "      <td>Mairie de Paris</td>\n",
       "      <td>5</td>\n",
       "    </tr>\n",
       "    <tr>\n",
       "      <th>1</th>\n",
       "      <td>75005</td>\n",
       "      <td>15 rue de la Parcheminerie</td>\n",
       "      <td>Paris</td>\n",
       "      <td>17h15 - 19h15</td>\n",
       "      <td>Mardi</td>\n",
       "      <td>Mairie de Paris</td>\n",
       "      <td>5</td>\n",
       "    </tr>\n",
       "    <tr>\n",
       "      <th>2</th>\n",
       "      <td>75005</td>\n",
       "      <td>15 rue de la Parcheminerie</td>\n",
       "      <td>Paris</td>\n",
       "      <td>17h15 - 19h15</td>\n",
       "      <td>Mercredi</td>\n",
       "      <td>Mairie de Paris</td>\n",
       "      <td>5</td>\n",
       "    </tr>\n",
       "    <tr>\n",
       "      <th>3</th>\n",
       "      <td>75005</td>\n",
       "      <td>15 rue de la Parcheminerie</td>\n",
       "      <td>Paris</td>\n",
       "      <td>17h15 - 19h15</td>\n",
       "      <td>Jeudi</td>\n",
       "      <td>Mairie de Paris</td>\n",
       "      <td>5</td>\n",
       "    </tr>\n",
       "    <tr>\n",
       "      <th>4</th>\n",
       "      <td>75005</td>\n",
       "      <td>15 rue de la Parcheminerie</td>\n",
       "      <td>Paris</td>\n",
       "      <td>17h15 - 19h15</td>\n",
       "      <td>Vendredi</td>\n",
       "      <td>Mairie de Paris</td>\n",
       "      <td>5</td>\n",
       "    </tr>\n",
       "  </tbody>\n",
       "</table>\n",
       "</div>"
      ],
      "text/plain": [
       "   Code Postal                     Adresse  Ville       Horaires      Jour  \\\n",
       "0        75005  15 rue de la Parcheminerie  Paris  17h15 - 19h15     Lundi   \n",
       "1        75005  15 rue de la Parcheminerie  Paris  17h15 - 19h15     Mardi   \n",
       "2        75005  15 rue de la Parcheminerie  Paris  17h15 - 19h15  Mercredi   \n",
       "3        75005  15 rue de la Parcheminerie  Paris  17h15 - 19h15     Jeudi   \n",
       "4        75005  15 rue de la Parcheminerie  Paris  17h15 - 19h15  Vendredi   \n",
       "\n",
       "      Organisation  arrondissement  \n",
       "0  Mairie de Paris               5  \n",
       "1  Mairie de Paris               5  \n",
       "2  Mairie de Paris               5  \n",
       "3  Mairie de Paris               5  \n",
       "4  Mairie de Paris               5  "
      ]
     },
     "execution_count": 7,
     "metadata": {},
     "output_type": "execute_result"
    }
   ],
   "source": [
    "df.head()"
   ]
  },
  {
   "cell_type": "code",
   "execution_count": 8,
   "metadata": {},
   "outputs": [],
   "source": [
    "df.to_csv(\"../data/distirbutions_repas.csv\")"
   ]
  },
  {
   "cell_type": "code",
   "execution_count": null,
   "metadata": {},
   "outputs": [],
   "source": []
  }
 ],
 "metadata": {
  "kernelspec": {
   "display_name": "Python 3",
   "language": "python",
   "name": "python3"
  },
  "language_info": {
   "codemirror_mode": {
    "name": "ipython",
    "version": 3
   },
   "file_extension": ".py",
   "mimetype": "text/x-python",
   "name": "python",
   "nbconvert_exporter": "python",
   "pygments_lexer": "ipython3",
   "version": "3.12.10"
  }
 },
 "nbformat": 4,
 "nbformat_minor": 2
}
