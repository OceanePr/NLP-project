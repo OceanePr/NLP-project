{
 "cells": [
  {
   "cell_type": "code",
   "execution_count": 2,
   "id": "a8fd1fba",
   "metadata": {},
   "outputs": [],
   "source": [
    "import json \n",
    "import requests "
   ]
  },
  {
   "cell_type": "code",
   "execution_count": null,
   "id": "69ddd595",
   "metadata": {},
   "outputs": [
    {
     "name": "stdout",
     "output_type": "stream",
     "text": [
      "\n",
      "GET http://127.0.0.1:5000/\n",
      "Status Code: 200\n",
      "Response Text: <h1>Welcome to Infrastructures against insecurity API </h1>\n"
     ]
    }
   ],
   "source": [
    "BASE_URL = \"http://127.0.0.1:5000\"\n",
    "\n",
    "try:\n",
    "    response = requests.get(BASE_URL + \"/\")\n",
    "    response.raise_for_status() # Raise an exception for HTTP errors (4xx or 5xx)\n",
    "    print(f\"\\nGET {BASE_URL}/\")\n",
    "    print(f\"Status Code: {response.status_code}\")\n",
    "    print(f\"Response Text: {response.text}\")\n",
    "except requests.exceptions.RequestException as e:\n",
    "    print(f\"Error accessing home route: {e}\")"
   ]
  },
  {
   "cell_type": "code",
   "execution_count": 8,
   "id": "245bda50",
   "metadata": {},
   "outputs": [
    {
     "name": "stdout",
     "output_type": "stream",
     "text": [
      "\n",
      "GET http://127.0.0.1:5000/distributions/borough/18\n",
      "Status Code: 200\n",
      "Response Text: [{\"_id\": {\"$oid\": \"6836116ca24b02cc8ce72d76\"}, \"\": 14, \"Code Postal\": 75018, \"Adresse\": \"24 avenue de la Porte de Montmartre\", \"Ville\": \"Paris\", \"Horaires\": \"18h30 - 20h00\", \"Jour\": \"Mardi\", \"Organisation\": \"Maison Bleue\", \"arrondissement\": 18}, {\"_id\": {\"$oid\": \"6836116ca24b02cc8ce72d78\"}, \"\": 16, \"Code Postal\": 75018, \"Adresse\": \"124 rue des Poissonniers\", \"Ville\": \"Paris\", \"Horaires\": \"18h30 - 21h00\", \"Jour\": \"Mardi\", \"Organisation\": \"Les Restos du C\\u0153ur\", \"arrondissement\": 18}, {\"_id\": {\"$oid\": \"6836116ca24b02cc8ce72d85\"}, \"\": 29, \"Code Postal\": 75018, \"Adresse\": \"70 boulevard Barb\\u00e8s\", \"Ville\": \"Paris\", \"Horaires\": \"Non pr\\u00e9cis\\u00e9\", \"Jour\": \"Non pr\\u00e9cis\\u00e9\", \"Organisation\": \"Arm\\u00e9e du Salut\", \"arrondissement\": 18}, {\"_id\": {\"$oid\": \"6836116ca24b02cc8ce72d86\"}, \"\": 30, \"Code Postal\": 75018, \"Adresse\": \"38 rue Charles Hermite\", \"Ville\": \"Paris\", \"Horaires\": \"13h00 - 15h30\", \"Jour\": \"Lundi\", \"Organisation\": \"Paris Tout P\\u2019tits\", \"arrondissement\": 18}, {\"_id\": {\"$oid\": \"6836116ca24b02cc8ce72d87\"}, \"\": 31, \"Code Postal\": 75018, \"Adresse\": \"38 rue Charles Hermite\", \"Ville\": \"Paris\", \"Horaires\": \"13h00 - 15h30\", \"Jour\": \"Mardi\", \"Organisation\": \"Paris Tout P\\u2019tits\", \"arrondissement\": 18}, {\"_id\": {\"$oid\": \"6836116ca24b02cc8ce72d88\"}, \"\": 32, \"Code Postal\": 75018, \"Adresse\": \"38 rue Charles Hermite\", \"Ville\": \"Paris\", \"Horaires\": \"13h00 - 15h30\", \"Jour\": \"Mercredi\", \"Organisation\": \"Paris Tout P\\u2019tits\", \"arrondissement\": 18}, {\"_id\": {\"$oid\": \"6836116ca24b02cc8ce72d89\"}, \"\": 33, \"Code Postal\": 75018, \"Adresse\": \"38 rue Charles Hermite\", \"Ville\": \"Paris\", \"Horaires\": \"12h30 - 15h30\", \"Jour\": \"Jeudi\", \"Organisation\": \"Paris Tout P\\u2019tits\", \"arrondissement\": 18}, {\"_id\": {\"$oid\": \"6836116ca24b02cc8ce72d8a\"}, \"\": 34, \"Code Postal\": 75018, \"Adresse\": \"38 rue Charles Hermite\", \"Ville\": \"Paris\", \"Horaires\": \"12h30 - 15h30\", \"Jour\": \"Vendredi\", \"Organisation\": \"Paris Tout P\\u2019tits\", \"arrondissement\": 18}]\n"
     ]
    }
   ],
   "source": [
    "try:\n",
    "    response = requests.get(BASE_URL + \"/distributions/borough/18\")\n",
    "    response.raise_for_status() # Raise an exception for HTTP errors (4xx or 5xx)\n",
    "    print(f\"\\nGET {BASE_URL}/distributions/borough/18\")\n",
    "    print(f\"Status Code: {response.status_code}\")\n",
    "    print(f\"Response Text: {response.text}\")\n",
    "except requests.exceptions.RequestException as e:\n",
    "    print(f\"Error accessing home route: {e}\")"
   ]
  },
  {
   "cell_type": "code",
   "execution_count": 26,
   "id": "e4485b5d",
   "metadata": {},
   "outputs": [],
   "source": [
    "import requests\n",
    "import json\n",
    "\n",
    "base_url_chatbot = \"http://127.0.0.1:8000/chat\"\n",
    "\n",
    "message = \"Y a-t-il une distribution de repas prévue aujourd'hui dans le 13e arrondissement de Paris ?\"\n",
    "payload = {\"message\": message}\n",
    "response = requests.post(base_url_chatbot, json=payload)\n"
   ]
  },
  {
   "cell_type": "code",
   "execution_count": 27,
   "id": "af3bb64d",
   "metadata": {},
   "outputs": [
    {
     "data": {
      "text/plain": [
       "'{\"response\":\"[{\\'_id\\': {\\'$oid\\': \\'6836116ca24b02cc8ce72d74\\'}, \\'\\': 12, \\'Code Postal\\': 75013, \\'Adresse\\': \\'15 rue Jean Antoine de Baïf\\', \\'Ville\\': \\'Paris\\', \\'Horaires\\': \\'19h30 - 21h00\\', \\'Jour\\': \\'Lundi\\', \\'Organisation\\': \\'ESS’Pace\\', \\'arrondissement\\': 13}, {\\'_id\\': {\\'$oid\\': \\'6836116ca24b02cc8ce72d79\\'}, \\'\\': 17, \\'Code Postal\\': 75013, \\'Adresse\\': \\'6 avenue Joseph-Bédier\\', \\'Ville\\': \\'Paris\\', \\'Horaires\\': \\'11h00 - 13h00\\', \\'Jour\\': \\'Lundi\\', \\'Organisation\\': \\'Les Restos du Cœur\\', \\'arrondissement\\': 13}, {\\'_id\\': {\\'$oid\\': \\'6836116ca24b02cc8ce72d7a\\'}, \\'\\': 18, \\'Code Postal\\': 75013, \\'Adresse\\': \\'6 avenue Joseph-Bédier\\', \\'Ville\\': \\'Paris\\', \\'Horaires\\': \\'11h00 - 13h00\\', \\'Jour\\': \\'Mardi\\', \\'Organisation\\': \\'Les Restos du Cœur\\', \\'arrondissement\\': 13}, {\\'_id\\': {\\'$oid\\': \\'6836116ca24b02cc8ce72d7b\\'}, \\'\\': 19, \\'Code Postal\\': 75013, \\'Adresse\\': \\'6 avenue Joseph-Bédier\\', \\'Ville\\': \\'Paris\\', \\'Horaires\\': \\'11h00 - 13h00\\', \\'Jour\\': \\'Mercredi\\', \\'Organisation\\': \\'Les Restos du Cœur\\', \\'arrondissement\\': 13}, {\\'_id\\': {\\'$oid\\': \\'6836116ca24b02cc8ce72d7c\\'}, \\'\\': 20, \\'Code Postal\\': 75013, \\'Adresse\\': \\'6 avenue Joseph-Bédier\\', \\'Ville\\': \\'Paris\\', \\'Horaires\\': \\'11h00 - 13h00\\', \\'Jour\\': \\'Jeudi\\', \\'Organisation\\': \\'Les Restos du Cœur\\', \\'arrondissement\\': 13}, {\\'_id\\': {\\'$oid\\': \\'6836116ca24b02cc8ce72d7d\\'}, \\'\\': 21, \\'Code Postal\\': 75013, \\'Adresse\\': \\'6 avenue Joseph-Bédier\\', \\'Ville\\': \\'Paris\\', \\'Horaires\\': \\'11h00 - 13h00\\', \\'Jour\\': \\'Vendredi\\', \\'Organisation\\': \\'Les Restos du Cœur\\', \\'arrondissement\\': 13}]\"}'"
      ]
     },
     "execution_count": 27,
     "metadata": {},
     "output_type": "execute_result"
    }
   ],
   "source": [
    "response.text\n"
   ]
  }
 ],
 "metadata": {
  "kernelspec": {
   "display_name": "Python 3",
   "language": "python",
   "name": "python3"
  },
  "language_info": {
   "codemirror_mode": {
    "name": "ipython",
    "version": 3
   },
   "file_extension": ".py",
   "mimetype": "text/x-python",
   "name": "python",
   "nbconvert_exporter": "python",
   "pygments_lexer": "ipython3",
   "version": "3.12.10"
  }
 },
 "nbformat": 4,
 "nbformat_minor": 5
}
