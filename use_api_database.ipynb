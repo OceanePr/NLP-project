{
 "cells": [
  {
   "cell_type": "code",
   "execution_count": 1,
   "id": "a8fd1fba",
   "metadata": {},
   "outputs": [],
   "source": [
    "import json \n",
    "import requests "
   ]
  },
  {
   "cell_type": "code",
   "execution_count": 2,
   "id": "69ddd595",
   "metadata": {},
   "outputs": [
    {
     "name": "stdout",
     "output_type": "stream",
     "text": [
      "\n",
      "GET http://127.0.0.1:5000/\n",
      "Status Code: 200\n",
      "Response Text: <h1>Welcome to Infrastructures against insecurity API </h1>\n"
     ]
    }
   ],
   "source": [
    "# Homepage of the Flask API (database) // GET\n",
    "\n",
    "BASE_URL = \"http://127.0.0.1:5000\"\n",
    "\n",
    "try:\n",
    "    response = requests.get(BASE_URL + \"/\")\n",
    "    response.raise_for_status() # Raise an exception for HTTP errors (4xx or 5xx)\n",
    "    print(f\"\\nGET {BASE_URL}/\")\n",
    "    print(f\"Status Code: {response.status_code}\")\n",
    "    print(f\"Response Text: {response.text}\")\n",
    "except requests.exceptions.RequestException as e:\n",
    "    print(f\"Error accessing home route: {e}\")"
   ]
  },
  {
   "cell_type": "code",
   "execution_count": 3,
   "id": "245bda50",
   "metadata": {},
   "outputs": [
    {
     "name": "stdout",
     "output_type": "stream",
     "text": [
      "\n",
      "GET http://127.0.0.1:5000/distributions/borough/18\n",
      "Status Code: 200\n",
      "Response Text: [{\"_id\": {\"$oid\": \"68387f182332b701f92992b1\"}, \"\": 14, \"Code Postal\": 75018, \"Adresse\": \"24 avenue de la Porte de Montmartre\", \"Ville\": \"Paris\", \"Horaires\": \"18h30 - 20h00\", \"Jour\": \"Mardi\", \"Organisation\": \"Maison Bleue\", \"arrondissement\": 18}, {\"_id\": {\"$oid\": \"68387f182332b701f92992b3\"}, \"\": 16, \"Code Postal\": 75018, \"Adresse\": \"124 rue des Poissonniers\", \"Ville\": \"Paris\", \"Horaires\": \"18h30 - 21h00\", \"Jour\": \"Mardi\", \"Organisation\": \"Les Restos du C\\u0153ur\", \"arrondissement\": 18}, {\"_id\": {\"$oid\": \"68387f182332b701f92992c0\"}, \"\": 29, \"Code Postal\": 75018, \"Adresse\": \"70 boulevard Barb\\u00e8s\", \"Ville\": \"Paris\", \"Horaires\": \"Non pr\\u00e9cis\\u00e9\", \"Jour\": \"Non pr\\u00e9cis\\u00e9\", \"Organisation\": \"Arm\\u00e9e du Salut\", \"arrondissement\": 18}, {\"_id\": {\"$oid\": \"68387f182332b701f92992c1\"}, \"\": 30, \"Code Postal\": 75018, \"Adresse\": \"38 rue Charles Hermite\", \"Ville\": \"Paris\", \"Horaires\": \"13h00 - 15h30\", \"Jour\": \"Lundi\", \"Organisation\": \"Paris Tout P\\u2019tits\", \"arrondissement\": 18}, {\"_id\": {\"$oid\": \"68387f182332b701f92992c2\"}, \"\": 31, \"Code Postal\": 75018, \"Adresse\": \"38 rue Charles Hermite\", \"Ville\": \"Paris\", \"Horaires\": \"13h00 - 15h30\", \"Jour\": \"Mardi\", \"Organisation\": \"Paris Tout P\\u2019tits\", \"arrondissement\": 18}, {\"_id\": {\"$oid\": \"68387f182332b701f92992c3\"}, \"\": 32, \"Code Postal\": 75018, \"Adresse\": \"38 rue Charles Hermite\", \"Ville\": \"Paris\", \"Horaires\": \"13h00 - 15h30\", \"Jour\": \"Mercredi\", \"Organisation\": \"Paris Tout P\\u2019tits\", \"arrondissement\": 18}, {\"_id\": {\"$oid\": \"68387f182332b701f92992c4\"}, \"\": 33, \"Code Postal\": 75018, \"Adresse\": \"38 rue Charles Hermite\", \"Ville\": \"Paris\", \"Horaires\": \"12h30 - 15h30\", \"Jour\": \"Jeudi\", \"Organisation\": \"Paris Tout P\\u2019tits\", \"arrondissement\": 18}, {\"_id\": {\"$oid\": \"68387f182332b701f92992c5\"}, \"\": 34, \"Code Postal\": 75018, \"Adresse\": \"38 rue Charles Hermite\", \"Ville\": \"Paris\", \"Horaires\": \"12h30 - 15h30\", \"Jour\": \"Vendredi\", \"Organisation\": \"Paris Tout P\\u2019tits\", \"arrondissement\": 18}]\n"
     ]
    }
   ],
   "source": [
    "# Route : distributions (database) // GET\n",
    "\n",
    "try:\n",
    "    response = requests.get(BASE_URL + \"/distributions/borough/18\")\n",
    "    response.raise_for_status() # Raise an exception for HTTP errors (4xx or 5xx)\n",
    "    print(f\"\\nGET {BASE_URL}/distributions/borough/18\")\n",
    "    print(f\"Status Code: {response.status_code}\")\n",
    "    print(f\"Response Text: {response.text}\")\n",
    "except requests.exceptions.RequestException as e:\n",
    "    print(f\"Error accessing home route: {e}\")"
   ]
  },
  {
   "cell_type": "code",
   "execution_count": 4,
   "id": "e4485b5d",
   "metadata": {},
   "outputs": [
    {
     "data": {
      "text/plain": [
       "'{\"response\":\"Bonjour ! Bienvenue sur le chatbot pour Infrastructures qui permet de lutter contre la précarité.Pour commencer, pourriez-vous saisir un identifiant, s\\'il vous plaît ? (ex: votre prénom).\"}'"
      ]
     },
     "execution_count": 4,
     "metadata": {},
     "output_type": "execute_result"
    }
   ],
   "source": [
    "# Send a message to the chatbot\n",
    "\n",
    "import requests\n",
    "import json\n",
    "\n",
    "base_url_chatbot = \"http://127.0.0.1:8000/chat\"\n",
    "\n",
    "message = \"Y a-t-il une distribution de repas prévue aujourd'hui dans le 13e arrondissement de Paris ?\"\n",
    "payload = {\"message\": message}\n",
    "response = requests.post(base_url_chatbot, json=payload)\n",
    "response.text\n"
   ]
  },
  {
   "cell_type": "code",
   "execution_count": 18,
   "id": "af3bb64d",
   "metadata": {},
   "outputs": [
    {
     "name": "stdout",
     "output_type": "stream",
     "text": [
      "Réponse du chatbot :\n",
      "Bonjour ! Bienvenue sur le chatbot pour Infrastructures qui permet de lutter contre la précarité. Pour commencer, pourriez-vous saisir un identifiant, s'il vous plaît ? (ex: votre prénom).\n"
     ]
    }
   ],
   "source": [
    "# conversation with the chatbot #1\n",
    "\n",
    "chatbot_url = \"http://127.0.0.1:8000/chat\"\n",
    "\n",
    "message_1 = \"Y a-t-il une distribution de repas prévue dans la semaine dans le 13e arrondissement de Paris ?\"\n",
    "response_1 = requests.post(chatbot_url, json={\"message\": message_1})\n",
    "\n",
    "print(\"Réponse du chatbot :\")\n",
    "print(response_1.json()[\"response\"])\n"
   ]
  },
  {
   "cell_type": "code",
   "execution_count": 19,
   "id": "2cd7858e",
   "metadata": {},
   "outputs": [
    {
     "name": "stdout",
     "output_type": "stream",
     "text": [
      "Réponse du chatbot :\n",
      "Merci Hélène, votre session est bien commencée. Vous pouvez poser votre question. Votre session se terminera en tapant le mot 'fin'.\n"
     ]
    }
   ],
   "source": [
    "message_1_2 = \"Je m'appelle Hélène\" \\\n",
    "\"\"\n",
    "response_1_2 = requests.post(chatbot_url, json={\"message\": message_1_2})\n",
    "\n",
    "print(\"Réponse du chatbot :\")\n",
    "print(response_1_2.json()[\"response\"])"
   ]
  },
  {
   "cell_type": "code",
   "execution_count": 20,
   "id": "f1d613d0",
   "metadata": {},
   "outputs": [
    {
     "name": "stdout",
     "output_type": "stream",
     "text": [
      "Chatbot : Confirmation de réception des jours :\n",
      "Voici les distributions de repas organisées dans l'arrondissement n°13: \n",
      "- - Le Lundi à l'adresse : 15 rue Jean Antoine de Baïf, aux horaires suivants : 19h30 - 21h00, au nom de : ESS’Pace\n",
      "- - Le Lundi à l'adresse : 6 avenue Joseph-Bédier, aux horaires suivants : 11h00 - 13h00, au nom de : Les Restos du Cœur\n",
      "- - Le Mardi à l'adresse : 6 avenue Joseph-Bédier, aux horaires suivants : 11h00 - 13h00, au nom de : Les Restos du Cœur\n",
      "- - Le Mercredi à l'adresse : 6 avenue Joseph-Bédier, aux horaires suivants : 11h00 - 13h00, au nom de : Les Restos du Cœur\n",
      "- - Le Jeudi à l'adresse : 6 avenue Joseph-Bédier, aux horaires suivants : 11h00 - 13h00, au nom de : Les Restos du Cœur\n",
      "- - Le Vendredi à l'adresse : 6 avenue Joseph-Bédier, aux horaires suivants : 11h00 - 13h00, au nom de : Les Restos du Cœur\n",
      "Afin d'aider les associations à organiser leurs stocks, pourriez-vous nous dire s'il y a un ou plusieurs jours de la semaine où vous vous rendez généralement aux maraudes dans cet arrondissement ?\n"
     ]
    }
   ],
   "source": [
    "message_2 = \"Y a-t-il une distribution de repas prévue dans la semaine dans le 13e arrondissement de Paris ?\"\n",
    "response_2 = requests.post(chatbot_url, json={\"message\": message_2})\n",
    "\n",
    "print(\"Chatbot : Confirmation de réception des jours :\")\n",
    "print(response_2.json()[\"response\"])\n"
   ]
  },
  {
   "cell_type": "code",
   "execution_count": 21,
   "id": "b88d1e84",
   "metadata": {},
   "outputs": [
    {
     "name": "stdout",
     "output_type": "stream",
     "text": [
      "Chatbot : Confirmation de réception des jours :\n",
      "Merci, nous avons bien noté que vous vous rendez aux maraudes les jours suivants : Lundi, Jeudi\n"
     ]
    }
   ],
   "source": [
    "message_3 = \"le lundi et jeudi\"\n",
    "response_3 = requests.post(chatbot_url, json={\"message\": message_3})\n",
    "\n",
    "print(\"Chatbot : Confirmation de réception des jours :\")\n",
    "print(response_3.json()[\"response\"])"
   ]
  },
  {
   "cell_type": "code",
   "execution_count": 22,
   "id": "cea9d42b",
   "metadata": {},
   "outputs": [
    {
     "name": "stdout",
     "output_type": "stream",
     "text": [
      "Chatbot : Confirmation de réception des jours :\n",
      "Votre session est terminée. À bientôt !\n"
     ]
    }
   ],
   "source": [
    "message_4 = \"fin\"\n",
    "response_4 = requests.post(chatbot_url, json={\"message\": message_4})\n",
    "\n",
    "print(\"Chatbot : Confirmation de réception des jours :\")\n",
    "print(response_4.json()[\"response\"])"
   ]
  },
  {
   "cell_type": "code",
   "execution_count": 23,
   "id": "bf2e85f3",
   "metadata": {},
   "outputs": [
    {
     "name": "stdout",
     "output_type": "stream",
     "text": [
      "Réponse du chatbot :\n",
      "Bonjour ! Bienvenue sur le chatbot pour Infrastructures qui permet de lutter contre la précarité. Pour commencer, pourriez-vous saisir un identifiant, s'il vous plaît ? (ex: votre prénom).\n"
     ]
    }
   ],
   "source": [
    "# conversation with the chatbot #2\n",
    "\n",
    "chatbot_url = \"http://127.0.0.1:8000/chat\"\n",
    "\n",
    "message_1 = \"Je suis blessée, que-dois-je faire\"\n",
    "response_1 = requests.post(chatbot_url, json={\"message\": message_1})\n",
    "\n",
    "print(\"Réponse du chatbot :\")\n",
    "print(response_1.json()[\"response\"])\n"
   ]
  },
  {
   "cell_type": "code",
   "execution_count": 24,
   "id": "6c41fa94",
   "metadata": {},
   "outputs": [
    {
     "name": "stdout",
     "output_type": "stream",
     "text": [
      "Réponse du chatbot :\n",
      "Merci Hakim, votre session est bien commencée. Vous pouvez poser votre question. Votre session se terminera en tapant le mot 'fin'.\n"
     ]
    }
   ],
   "source": [
    "message_1_2 = \"Hakim\" \\\n",
    "\"\"\n",
    "response_1_2 = requests.post(chatbot_url, json={\"message\": message_1_2})\n",
    "\n",
    "print(\"Réponse du chatbot :\")\n",
    "print(response_1_2.json()[\"response\"])"
   ]
  },
  {
   "cell_type": "code",
   "execution_count": null,
   "id": "b54800eb",
   "metadata": {},
   "outputs": [
    {
     "name": "stdout",
     "output_type": "stream",
     "text": [
      "Réponse du chatbot :\n",
      "Voici les hôpitaux dans l'arrondissement n°13: \n",
      "- HOPITAL BROCA (AP-HP), situé au 54 R PASCAL, catégorie : Centre Hospitalier Régional (C.H.R.), téléphone : 01 44 08 30 00\n",
      "- FOYER DE POST-CURE DES GOBELINS, situé au 7 R DES GOBELINS, catégorie : Centre Postcure Malades Mentaux, téléphone : 01 43 36 99 45\n",
      "- FOYER DE POST-CURE  CAILLAUX, situé au 8B R CAILLAUX, catégorie : Centre Postcure Malades Mentaux, téléphone : 01 44 24 37 00\n",
      "- HÔPITAL HENRI HEY, situé au 15 AV DE LA PORTE DE CHOISY, catégorie : Centre Hospitalier Spécialisé lutte Maladies Mentales, téléphone : 01 69 25 42 00\n",
      "- HOPITAL LA PITIE SALPETRIERE, situé au 47 BD DE L'HOPITAL, catégorie : Centre Hospitalier Régional (C.H.R.), téléphone : 01 42 16 00 00\n"
     ]
    }
   ],
   "source": [
    "chatbot_url = \"http://127.0.0.1:8000/chat\"\n",
    "\n",
    "message_3 = \"Je suis tombée dans le 13e, que dois-je faire ?\"\n",
    "response_3 = requests.post(chatbot_url, json={\"message\": message_3})\n",
    "\n",
    "print(\"Réponse du chatbot :\")\n",
    "print(response_3.json()[\"response\"])"
   ]
  },
  {
   "cell_type": "code",
   "execution_count": 26,
   "id": "383c9d76",
   "metadata": {},
   "outputs": [
    {
     "name": "stdout",
     "output_type": "stream",
     "text": [
      "Réponse du chatbot :\n",
      "Je n'ai pas réussi à trouver dans quel arrondissement de Paris vous souhaitez effectuer votre recherche, pourriez-vous me le préciser s'il vous plaît ? \n"
     ]
    }
   ],
   "source": [
    "message_4 = \"J'aimerais me laver également. Où aller ?\"\n",
    "response_4 = requests.post(chatbot_url, json={\"message\": message_4})\n",
    "print(\"Réponse du chatbot :\")\n",
    "print(response_4.json()[\"response\"])"
   ]
  },
  {
   "cell_type": "code",
   "execution_count": 27,
   "id": "1504f964",
   "metadata": {},
   "outputs": [
    {
     "name": "stdout",
     "output_type": "stream",
     "text": [
      "Réponse du chatbot :\n",
      "Voici les douches publiques dans l'arrondissement n°13:\n",
      "- Adresse : 5, place Paul-Verlaine, jour : lundi  horaires : -, mixité : Mixité non précisée\n",
      "- Adresse : 5, place Paul-Verlaine, jour : mardi  horaires : 07h30 - 13h00, mixité : Mixité non précisée\n",
      "- Adresse : 5, place Paul-Verlaine, jour : mercredi  horaires : -, mixité : Mixité non précisée\n",
      "- Adresse : 5, place Paul-Verlaine, jour : jeudi  horaires : 07h30 - 13h00, mixité : Mixité non précisée\n",
      "- Adresse : 5, place Paul-Verlaine, jour : vendredi  horaires : 07h30 - 13h00, mixité : Mixité non précisée\n",
      "- Adresse : 5, place Paul-Verlaine, jour : samedi  horaires : 07h30 - 13h00, mixité : Mixité non précisée\n",
      "- Adresse : 5, place Paul-Verlaine, jour : dimanche  horaires : 08h30 - 12h30, mixité : Mixité non précisée\n"
     ]
    }
   ],
   "source": [
    "message_5 = \"Je suis dans le 13ème arrondissemenr. J'aimerais me laver également. Où aller ?\"\n",
    "response_5 = requests.post(chatbot_url, json={\"message\": message_5})\n",
    "print(\"Réponse du chatbot :\")\n",
    "print(response_5.json()[\"response\"])"
   ]
  },
  {
   "cell_type": "code",
   "execution_count": 28,
   "id": "b383d3f7",
   "metadata": {},
   "outputs": [
    {
     "name": "stdout",
     "output_type": "stream",
     "text": [
      "Réponse du chatbot :\n",
      "Votre session est terminée. À bientôt !\n"
     ]
    }
   ],
   "source": [
    "message_6 = \"fin\"\n",
    "response_6 = requests.post(chatbot_url, json={\"message\": message_6})\n",
    "print(\"Réponse du chatbot :\")\n",
    "print(response_6.json()[\"response\"])"
   ]
  },
  {
   "cell_type": "code",
   "execution_count": null,
   "id": "3723170d",
   "metadata": {},
   "outputs": [
    {
     "name": "stdout",
     "output_type": "stream",
     "text": [
      "\n",
      "Nouvelle réponse du chatbot :\n",
      "Bonjour ! Bienvenue sur le chatbot pour Infrastructures qui permet de lutter contre la précarité. Pour commencer, pourriez-vous saisir un identifiant, s'il vous plaît ? (ex: votre prénom).\n"
     ]
    }
   ],
   "source": [
    "# conversation with the chatbot #3\n",
    "\n",
    "message_1 = \"Je suis dans le 1er arrondissement. Où nettoyer mes affaires ?\"\n",
    "response_1 = requests.post(chatbot_url, json={\"message\": message_1})\n",
    "print(\"\\nNouvelle réponse du chatbot :\")\n",
    "print(response_1.json()[\"response\"])"
   ]
  },
  {
   "cell_type": "code",
   "execution_count": 30,
   "id": "458d6d47",
   "metadata": {},
   "outputs": [
    {
     "name": "stdout",
     "output_type": "stream",
     "text": [
      "\n",
      "Nouvelle réponse du chatbot :\n",
      "Merci Erine, votre session est bien commencée. Vous pouvez poser votre question. Votre session se terminera en tapant le mot 'fin'.\n"
     ]
    }
   ],
   "source": [
    "message_2 = \"Moi c'est Erine\"\n",
    "response_2 = requests.post(chatbot_url, json={\"message\": message_2})\n",
    "print(\"\\nNouvelle réponse du chatbot :\")\n",
    "print(response_2.json()[\"response\"])"
   ]
  },
  {
   "cell_type": "code",
   "execution_count": 31,
   "id": "12160a46",
   "metadata": {},
   "outputs": [
    {
     "name": "stdout",
     "output_type": "stream",
     "text": [
      "\n",
      "Nouvelle réponse du chatbot :\n",
      "Nous sommes désolées, il n'y a pas de douche publique enregistrée dans l'arrondissement n°1. Voici les arrondissements actuellement couverts : 4e, 5e, 8e, 11e, 12e, 13e, 15e, 18e, 19e, 20e. Veuillez indiquer un autre arrondissement parmi cette liste.\n"
     ]
    }
   ],
   "source": [
    "message_3 = \"Je suis dans le 1er arrondissement. Où nettoyer mes affaires ?\"\n",
    "response_3 = requests.post(chatbot_url, json={\"message\": message_3})\n",
    "print(\"\\nNouvelle réponse du chatbot :\")\n",
    "print(response_3.json()[\"response\"])"
   ]
  },
  {
   "cell_type": "code",
   "execution_count": 33,
   "id": "d5ab262a",
   "metadata": {},
   "outputs": [
    {
     "name": "stdout",
     "output_type": "stream",
     "text": [
      "\n",
      "Nouvelle réponse du chatbot :\n",
      "Voici les douches publiques dans l'arrondissement n°5:\n",
      "- Adresse : 50, rue Lacepède, jour : lundi  horaires : -, mixité : Mixité non précisée\n",
      "- Adresse : 50, rue Lacepède, jour : mardi  horaires : 07h30 - 13h00, mixité : Mixité non précisée\n",
      "- Adresse : 50, rue Lacepède, jour : mercredi  horaires : 07h30 - 13h00, mixité : Mixité non précisée\n",
      "- Adresse : 50, rue Lacepède, jour : jeudi  horaires : 07h30 - 13h00, mixité : Mixité non précisée\n",
      "- Adresse : 50, rue Lacepède, jour : vendredi  horaires : 07h30 - 13h00, mixité : Mixité non précisée\n",
      "- Adresse : 50, rue Lacepède, jour : samedi  horaires : 07h30 - 13h00, mixité : Mixité non précisée\n",
      "- Adresse : 50, rue Lacepède, jour : dimanche  horaires : 08h00 - 12h30, mixité : Mixité non précisée\n"
     ]
    }
   ],
   "source": [
    "message_4 = \"le 5ème\"\n",
    "response_4 = requests.post(chatbot_url, json={\"message\": message_4})\n",
    "print(\"\\nNouvelle réponse du chatbot :\")\n",
    "print(response_4.json()[\"response\"])"
   ]
  },
  {
   "cell_type": "code",
   "execution_count": 34,
   "id": "2beb1691",
   "metadata": {},
   "outputs": [
    {
     "name": "stdout",
     "output_type": "stream",
     "text": [
      "\n",
      "Nouvelle réponse du chatbot :\n",
      "Votre session est terminée. À bientôt !\n"
     ]
    }
   ],
   "source": [
    "message_5 = \"fin\"\n",
    "response_5 = requests.post(chatbot_url, json={\"message\": message_5})\n",
    "print(\"\\nNouvelle réponse du chatbot :\")\n",
    "print(response_5.json()[\"response\"])"
   ]
  },
  {
   "cell_type": "code",
   "execution_count": 37,
   "id": "b5343bd9",
   "metadata": {},
   "outputs": [
    {
     "name": "stdout",
     "output_type": "stream",
     "text": [
      "\n",
      "Nouvelle réponse du chatbot :\n",
      "Bonjour ! Bienvenue sur le chatbot pour Infrastructures qui permet de lutter contre la précarité. Pour commencer, pourriez-vous saisir un identifiant, s'il vous plaît ? (ex: votre prénom).\n"
     ]
    }
   ],
   "source": [
    "# conversation with the chatbot #4\n",
    "\n",
    "message_1 = \"Bonjour, je voudrais savoir s'il y a de quoi manger dans le 5ème arrondissement ?\"\n",
    "response_1 = requests.post(chatbot_url, json={\"message\": message_1})\n",
    "print(\"\\nNouvelle réponse du chatbot :\")\n",
    "print(response_1.json()[\"response\"])"
   ]
  },
  {
   "cell_type": "code",
   "execution_count": 38,
   "id": "fcac2046",
   "metadata": {},
   "outputs": [
    {
     "name": "stdout",
     "output_type": "stream",
     "text": [
      "\n",
      "Nouvelle réponse du chatbot :\n",
      "Merci Irvin, votre session est bien commencée. Vous pouvez poser votre question. Votre session se terminera en tapant le mot 'fin'.\n"
     ]
    }
   ],
   "source": [
    "message_2 = \"Irvin\"\n",
    "response_2 = requests.post(chatbot_url, json={\"message\": message_2})\n",
    "print(\"\\nNouvelle réponse du chatbot :\")\n",
    "print(response_2.json()[\"response\"])"
   ]
  },
  {
   "cell_type": "code",
   "execution_count": 43,
   "id": "dad61a12",
   "metadata": {},
   "outputs": [
    {
     "name": "stdout",
     "output_type": "stream",
     "text": [
      "\n",
      "Nouvelle réponse du chatbot :\n",
      "Voici les distributions de repas organisées dans l'arrondissement n°5: \n",
      "- - Le Lundi à l'adresse : 15 rue de la Parcheminerie, aux horaires suivants : 17h15 - 19h15, au nom de : Mairie de Paris\n",
      "- - Le Mardi à l'adresse : 15 rue de la Parcheminerie, aux horaires suivants : 17h15 - 19h15, au nom de : Mairie de Paris\n",
      "- - Le Mercredi à l'adresse : 15 rue de la Parcheminerie, aux horaires suivants : 17h15 - 19h15, au nom de : Mairie de Paris\n",
      "- - Le Jeudi à l'adresse : 15 rue de la Parcheminerie, aux horaires suivants : 17h15 - 19h15, au nom de : Mairie de Paris\n",
      "- - Le Vendredi à l'adresse : 15 rue de la Parcheminerie, aux horaires suivants : 17h15 - 19h15, au nom de : Mairie de Paris\n",
      "- - Le Samedi à l'adresse : 15 rue de la Parcheminerie, aux horaires suivants : 17h15 - 19h15, au nom de : Mairie de Paris\n",
      "Afin d'aider les associations à organiser leurs stocks, pourriez-vous nous dire s'il y a un ou plusieurs jours de la semaine où vous vous rendez généralement aux maraudes dans cet arrondissement ?\n"
     ]
    }
   ],
   "source": [
    "message_3 = \"Bonjour, je voudrais savoir s'il y a de quoi manger dans le 5ème arrondissement ?\"\n",
    "response_3 = requests.post(chatbot_url, json={\"message\": message_3})\n",
    "print(\"\\nNouvelle réponse du chatbot :\")\n",
    "print(response_3.json()[\"response\"])"
   ]
  },
  {
   "cell_type": "code",
   "execution_count": 44,
   "id": "6e80b261",
   "metadata": {},
   "outputs": [
    {
     "name": "stdout",
     "output_type": "stream",
     "text": [
      "\n",
      "Nouvelle réponse du chatbot :\n",
      "Votre session est terminée. À bientôt !\n"
     ]
    }
   ],
   "source": [
    "message_4 = \"fin\"\n",
    "response_4 = requests.post(chatbot_url, json={\"message\": message_4})\n",
    "print(\"\\nNouvelle réponse du chatbot :\")\n",
    "print(response_4.json()[\"response\"])"
   ]
  },
  {
   "cell_type": "code",
   "execution_count": 45,
   "id": "bedb0566",
   "metadata": {},
   "outputs": [
    {
     "name": "stdout",
     "output_type": "stream",
     "text": [
      "\n",
      "Nouvelle réponse du chatbot :\n",
      "Bonjour ! Bienvenue sur le chatbot pour Infrastructures qui permet de lutter contre la précarité. Pour commencer, pourriez-vous saisir un identifiant, s'il vous plaît ? (ex: votre prénom).\n"
     ]
    }
   ],
   "source": [
    "# conversation with the chatbot #5\n",
    "\n",
    "message_1 = \"Bonjour, je voudrais ajouter une adresse de maraude dans votre base\"\n",
    "response_1 = requests.post(chatbot_url, json={\"message\": message_1})\n",
    "print(\"\\nNouvelle réponse du chatbot :\")\n",
    "print(response_1.json()[\"response\"])"
   ]
  },
  {
   "cell_type": "code",
   "execution_count": 46,
   "id": "c1549618",
   "metadata": {},
   "outputs": [
    {
     "name": "stdout",
     "output_type": "stream",
     "text": [
      "\n",
      "Nouvelle réponse du chatbot :\n",
      "Merci Léonardo, votre session est bien commencée. Vous pouvez poser votre question. Votre session se terminera en tapant le mot 'fin'.\n"
     ]
    }
   ],
   "source": [
    "message_2 = \"Léonardo\"\n",
    "response_2 = requests.post(chatbot_url, json={\"message\": message_2})\n",
    "print(\"\\nNouvelle réponse du chatbot :\")\n",
    "print(response_2.json()[\"response\"])"
   ]
  },
  {
   "cell_type": "code",
   "execution_count": 47,
   "id": "78aec2d9",
   "metadata": {},
   "outputs": [
    {
     "name": "stdout",
     "output_type": "stream",
     "text": [
      "\n",
      "Nouvelle réponse du chatbot :\n",
      "Nous n'avons pas reconnu l'un des quatre sujets que nous couvrons : les douches publiques, les hôpitaux, les commissariats et les maraudes\n"
     ]
    }
   ],
   "source": [
    "message_3 = \"Je voudrais ajouter une adresse de maraude dans votre base\"\n",
    "response_3 = requests.post(chatbot_url, json={\"message\": message_3})\n",
    "print(\"\\nNouvelle réponse du chatbot :\")\n",
    "print(response_3.json()[\"response\"])"
   ]
  },
  {
   "cell_type": "code",
   "execution_count": null,
   "id": "b5c5c923",
   "metadata": {},
   "outputs": [],
   "source": []
  }
 ],
 "metadata": {
  "kernelspec": {
   "display_name": "venv",
   "language": "python",
   "name": "python3"
  },
  "language_info": {
   "codemirror_mode": {
    "name": "ipython",
    "version": 3
   },
   "file_extension": ".py",
   "mimetype": "text/x-python",
   "name": "python",
   "nbconvert_exporter": "python",
   "pygments_lexer": "ipython3",
   "version": "3.12.4"
  }
 },
 "nbformat": 4,
 "nbformat_minor": 5
}
